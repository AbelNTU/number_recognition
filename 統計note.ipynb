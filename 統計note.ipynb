{
 "cells": [
  {
   "cell_type": "code",
   "execution_count": 5,
   "metadata": {
    "scrolled": true
   },
   "outputs": [],
   "source": [
    "import matplotlib\n",
    "import numpy as np\n",
    "import matplotlib.pyplot as plt\n",
    "import matplotlib.mlab as mlab\n",
    "import math"
   ]
  },
  {
   "cell_type": "markdown",
   "metadata": {
    "collapsed": true
   },
   "source": [
    "# A -- Probability\n",
    "\n",
    "## Lemma(Markov's inequality)\n",
    "   If random variable X take non-negative values, then for any a > 0, we have\n",
    "       $$P\\{X\\geq a\\} \\leq \\frac{E[X]}{a}$$\n",
    "\n",
    "## Chebyshev inequality\n",
    "   The random variable with finite mean  $\\mu$ and variance  $\\sigma^2$, then for any k > 0\n",
    "   $$P\\{|X-\\mu|\\geq k\\}\\leq \\frac{\\sigma^2}{k^2}$$"
   ]
  },
  {
   "cell_type": "markdown",
   "metadata": {},
   "source": [
    "## Covariance\n",
    "$$Cov(X,Y) = E[(X-E(X))(Y-E(Y))] = E(XY)-E(X)E(Y)$$\n",
    "## Correlation\n",
    "$$Corr(X,Y) = \\frac{Cov(X,Y)}{\\sqrt{Var(X)}\\sqrt{Var(Y)}}$$\n",
    "## Regression coefficient\n",
    "$$\\beta = Cov(X,Y)\\times \\frac{\\sigma_y}{\\sigma_x} = \\frac{Corr(X,Y)}{Var(X)}$$\n",
    "## Condition and Variance\n",
    "$$Var(X) = E[Var(X|Y)]+Var(E[X|Y])$$\n",
    "\n",
    "==========================================================================\n",
    "## Some example\n",
    "1.$Cov(ax+c,by+d) = ab\\cdot Cov(x,y)$<br>\n",
    "2.$Var(ax+by) = a^2Var(X) + b^2Var(Y) + 2abCov(X,Y)$<br>\n",
    "3.$corr(ax,by) = \\pm corr(X,Y)$<br>\n",
    "4.$Cov(X,Y)^2 \\leq Var(X)Var(Y)$\n",
    "\n",
    "## Example with Condition\n",
    "1.$E[E[X|Y]] = E[X]$<br>\n",
    "2.$E[X\\varphi (Y)|Y] = E[X|Y]\\varphi(Y)$<br>\n",
    "3.$E[X-E[X|Y]]^2\\leq E[X-\\varphi (Y)]^2$(This holds for any function $\\varphi$)\n",
    "\n",
    "========================================================="
   ]
  },
  {
   "cell_type": "markdown",
   "metadata": {
    "collapsed": true
   },
   "source": [
    "# B -- Explaining association\n",
    "\n",
    "## Association and causality(相關性不代表因果)\n",
    "   1.因果 -- 小孩的重量與父母重量正相關\n",
    "   2.相關但不確定因果 -- 結婚男性賺的比較多，不代表結婚後就賺比較多\n",
    "## Common response(有一個變量同時影響兩個結果)\n",
    "   學測跟指考分數高相關，是因為學生的能力同時影響這兩個變數\n",
    "## Confounding(潛在因素)\n",
    "   油價下跌與菜價上升，而菜價上升可能是因為氣候因素，可能讓我們覺得兩個互相獨立的變數彼此有相關性\n",
    "   \n",
    "============================================================================="
   ]
  },
  {
   "cell_type": "markdown",
   "metadata": {},
   "source": [
    "# C-- Probability Distribution\n",
    "||parameter(s)|Probability function $f(x)$|$\\mu$|$\\sigma$|\n",
    "|---|:----:|:---------:|:-------------------:|:-----------:|\n",
    "|Binomial|$(n,p)$|${n \\choose x}p^x(1-p)^{n-x}$|$np$|$\\sqrt{np(1-p)}$|\n",
    "|Hypergeometric|$(M,N,n)$|$$\\frac{{M \\choose x}{N \\choose n-x}}{{M+N \\choose n}}$$|$\\frac{nM}{M+N}$|$\\frac{nMN}{(M+N)^2}\\frac{M+N-n}{M+N-1}$|\n",
    "|Poisson|$\\lambda$|$$\\frac{e^{-\\lambda}\\lambda^x}{x!}$$|$\\lambda$|$\\lambda$|\n",
    "|Exponential|$\\beta$|$$\\frac{1}{\\beta}e^{-\\frac{x}{\\beta}}$$|$\\beta$|$\\beta^2$|\n",
    "|Exponential(2)|$\\lambda$|$$\\lambda e^{-\\lambda x}$$|$\\frac{1}{\\lambda}$|$\\frac{1}{\\lambda^2}$|\n",
    "|Normal|$(\\mu,\\sigma^2)$|$$\\frac{1}{\\sqrt{2\\pi\\sigma^2}}e^{-\\frac{(x-\\mu)^2}{2\\sigma^2}}$$|$\\mu$|$\\sigma$|\n",
    "|Chi-square|$n$|$$\\sum_1^n Z_i^2, Z_i \\sim N(0,1)$$|$n$|$2n$|\n",
    "|T|$n$|$Z \\sim N(0,1)\\\\ Y\\sim \\chi^2(n)\\\\ \\frac{Z}{\\sqrt{Y/n}}\\sim t(n)$|$n=1$時沒定義，其餘皆為0|$n>2$時為$\\frac{n}{n-2}$，其餘沒定義|\n",
    "|F|$(m,n)$|$Z\\sim \\chi^2(m)\\\\ Y\\sim \\chi^2(n) \\\\ \\frac{Z/m}{Y/n} \\sim F(m,n)$|$n>2$為$\\frac{n}{n-2}$，其餘沒定義|$n>4$為$\\frac{2n^2(m+n-2)}{m(n-2)^2(n-4)}$\n"
   ]
  },
  {
   "cell_type": "markdown",
   "metadata": {},
   "source": [
    "# D -- Estimators\n",
    "### $ \\hat{\\theta_n}$為點估計式，$\\theta_0$為母體參數\n",
    "## Unbiasdness(不偏性)\n",
    "   $$\\text{If }E(\\hat{\\theta_n})=\\theta_0\\\\\\text{We say } \\hat{\\theta_n}\\text{ is a unbiased estimator of} \\quad \\theta_0$$\n",
    "## Efficiency(有效性)\n",
    "   $$MSE(\\hat{ \\theta_n })=E(\\hat{\\theta_n}-\\theta_0)^2\\\\=Var(\\hat{\\theta_n})+(E(\\hat{\\theta_n}-\\theta_0))^2\\\\=Var(\\hat{\\theta_n})+Bias^2(如果是Unbiased，則Bias^2=0)\\\\\n",
    "   \\text{If }MSE(\\hat{\\theta_n})<MSE(\\tilde{\\theta_n})\\text{ ,then we say }\\hat{\\theta_n} \\text{ is more efficient than }\\tilde{\\theta_n}$$\n",
    "## Consistency(一致性)\n",
    "$$\\text{If } \\forall \\epsilon >0\\\\ \\lim_{n\\to \\infty}P(\\{|\\hat{\\theta_n}-\\theta_0|\\geq \\epsilon\\})=0\\\\ \\text{We say}\\quad \\hat{\\theta_n}\\quad \\text{is a consistent estimator of} \\quad \\theta_0$$"
   ]
  },
  {
   "cell_type": "markdown",
   "metadata": {
    "collapsed": true
   },
   "source": [
    "# E -- Probability Theorem\n",
    "## Weak Law of Large Numbers(弱大樹法則)\n",
    "$$\\text{Let }X_1,X_2,\\ldots,X_n \\text{ to be i.i.d. , }E(X_i)=\\mu \\text{, then for any }\\epsilon > 0\\\\\\lim_{n\\to\\infty}P\\{\\left|\\frac{X_1+\\cdots+X_n}{n}-\\mu\\right|\\geq \\epsilon\\}=0$$\n",
    "## Strong Law of Large Numbers(強大數法則)\n",
    "$$P(\\lim_{n\\to \\infty}\\frac{(X_1+\\cdots+X_n)}{n}=\\mu)=1$$\n",
    "## Central Limit Theorem(中央極限定理)\n",
    "$$\\lim_{n \\to \\infty}P\\{\\frac{X_1+\\cdots+X_n - n\\mu}{\\sigma \\sqrt{n}}\\leq a\\}=\\Phi(a)\\\\\n",
    "\\Phi(x) = \\frac{1}{\\sqrt{2\\pi}}\\int_{-\\infty}^x e^{-\\frac{t^2}{2}}dt$$<br>\n"
   ]
  },
  {
   "cell_type": "markdown",
   "metadata": {},
   "source": [
    "# F -- Sampling Distribution\n",
    "## 1.Single population\n",
    "$\\text{Setting: }X_i \\text{ are } i.i.d. \\text{ from a normal distributed population. }$\n",
    "### Mean testing($H_0:\\mu_0=\\mu_{null}$)\n",
    "####  -- $\\sigma_0^2$已知：\n",
    "$$z = \\frac{\\sqrt{n}(\\overline{X_n}-\\mu_{null})}{\\sigma_0} \\sim N(0,1)$$\n",
    "example:<br>\n",
    "If $\\alpha = 0.05$ 在單尾檢定假設可容許的 $z$ 值為$(-1.645,1.645)$之間；在雙尾檢定為$(-1.96,1.96)$\n",
    "####  -- $\\sigma_0^2$未知：\n",
    "$$t = \\frac{\\sqrt{n}(\\overline{X_n}-\\mu_{null})}{\\hat{S_n}} \\sim t(n-1)$$\n",
    "example:<br>\n",
    "If $\\alpha = 0.05$ 在t-table的.95那一行找臨界值<br>\n",
    "\\-------------------------------------------------------------------------------------------------------------------------------------------\n",
    "### Variance testing($H_0:\\sigma_0^2=\\sigma_{null}^2$)\n",
    "$$\\chi^2 = \\frac{(n-1)\\hat{S_n^2}}{\\sigma_{null}^2} \\sim \\chi^2(n-1)$$\n",
    "\\-------------------------------------------------------------------------------------------------------------------------------------------\n",
    "## 2.Two population\n",
    "$\\text{Setting: }X_i\\text{(n samples)},Y_j\\text{(m samples)} \\text{ are } i.i.d. \\text{ from two normal distributed populations. }$\n",
    "### Mean testing($H_0:\\mu_X=\\mu_Y$)\n",
    "####  -- $\\sigma_0^2$已知：\n",
    "#####  $\\sigma_X^2 = \\sigma_Y^2$：\n",
    "$$z = \\frac{(\\overline{X}-\\overline{Y})-(\\mu_X-\\mu_Y)_{null}}{\\sigma_0\\sqrt{\\frac{1}{n}+\\frac{1}{m}}}\\sim N(0,1)$$\n",
    "#####  $\\sigma_X^2 \\neq \\sigma_Y^2$：\n",
    "$$z = \\frac{(\\overline{X}-\\overline{Y})-(\\mu_X-\\mu_Y)_{null}}{\\sqrt{\\frac{\\sigma_X^2}{n}+\\frac{\\sigma_Y^2}{m}}}\\sim N(0,1)$$\n",
    "\\-------------------------------------------------------------------------------------------------------------------------------------------\n",
    "####  -- $\\sigma_0^2$未知：\n",
    "#####  $\\sigma_X^2 = \\sigma_Y^2$：\n",
    "$$t = \\frac{(\\overline{X}-\\overline{Y})-(\\mu_X-\\mu_Y)_{null}}{S_p\\sqrt{\\frac{1}{n}+\\frac{1}{m}}}\\sim t(n+m-2)\\\\S_p = \\sqrt{\\frac{(n-1)\\hat{S^2_X}+(m-1)\\hat{S^2_Y}}{n+m-2}}$$\n",
    "#####  $\\sigma_X^2 \\neq \\sigma_Y^2$：\n",
    "$$t = \\frac{(\\overline{X}-\\overline{Y})-(\\mu_X-\\mu_Y)_{null}}{\\sqrt{\\frac{S_X^2}{n}+\\frac{S_Y^2}{m}}}\\sim t(df)\\\\df = \\frac{\\left(\\frac{S^2_X}{n}+\\frac{S^2_Y}{m}\\right)^2}{\\frac{1}{n-1}\\left(\\frac{S^2_X}{n}\\right)^2+\\frac{1}{m-1}\\left(\\frac{S^2_X}{m}\\right)^2}\\text{ 這裡只要取整數部分}$$\n",
    "\\-------------------------------------------------------------------------------------------------------------------------------------------\n",
    "### Variance testing($H_0:\\sigma_X^2=\\sigma_Y^2$)\n",
    "$$f = \\frac{S^2_{Y,m}/\\sigma^2_Y}{S^2_{X,n}/\\sigma^2_X} \\sim F(m-1,n-1)\\\\\n",
    "\\text{但是因為假設 }\\sigma_X^2=\\sigma_Y^2 \\text{ 所以可以化簡為 }\\frac{S^2_{Y,m}}{S^2_{X,n}} \\sim F(m-1,n-1)$$\n",
    "\\-------------------------------------------------------------------------------------------------------------------------------------------"
   ]
  },
  {
   "cell_type": "markdown",
   "metadata": {},
   "source": [
    "# G -- 檢定力分析\n",
    "||接受$H_0$|拒絕$H_0$|\n",
    "|:-----:|---|---|\n",
    "|$H_0\\\\ \\theta_0=b\\text{正確}$|決策正確<br>機率為$1-\\alpha$|Type I error<br> 機率為$\\alpha$|\n",
    "|$H_1\\\\ \\theta_0=q\\text{正確}$|Type II error<br>機率為$\\beta(q)$|決策正確<br>檢定力為$\\pi(q)=1-\\beta(q)$|"
   ]
  },
  {
   "cell_type": "markdown",
   "metadata": {
    "collapsed": true
   },
   "source": [
    "## 誤差機率與檢定力\n",
    "對Type I error我們關心$\\alpha$值，$\\alpha$值也就代表我們犯下型一誤差的機率"
   ]
  },
  {
   "cell_type": "code",
   "execution_count": 42,
   "metadata": {},
   "outputs": [
    {
     "data": {
      "image/png": "[encoded data removed]",
      "text/plain": [
       "<matplotlib.figure.Figure at 0x5cdaeac>"
      ]
     },
     "metadata": {},
     "output_type": "display_data"
    },
    {
     "data": {
      "image/png": "[encoded data removed]",
      "text/plain": [
       "<matplotlib.figure.Figure at 0x543714c>"
      ]
     },
     "metadata": {},
     "output_type": "display_data"
    }
   ],
   "source": [
    "mu = 0\n",
    "variance = 1\n",
    "sigma = math.sqrt(variance)\n",
    "plt.axis('off')\n",
    "x = np.linspace(mu-3*variance,mu+3*variance, 100)\n",
    "_, ax = plt.subplots(4,sharex=True, sharey=True)\n",
    "\n",
    "ax[0].plot(x,mlab.normpdf(x, mu+2, sigma))\n",
    "ax[1].plot(x,mlab.normpdf(x, mu+2, sigma))\n",
    "ax[2].plot(x,mlab.normpdf(x, mu+2, sigma))\n",
    "ax[3].plot(x,mlab.normpdf(x, mu+2, sigma))\n",
    "plt.show()"
   ]
  },
  {
   "cell_type": "code",
   "execution_count": null,
   "metadata": {
    "collapsed": true
   },
   "outputs": [],
   "source": []
  }
 ],
 "metadata": {
  "kernelspec": {
   "display_name": "Python 3",
   "language": "python",
   "name": "python3"
  },
  "language_info": {
   "codemirror_mode": {
    "name": "ipython",
    "version": 3
   },
   "file_extension": ".py",
   "mimetype": "text/x-python",
   "name": "python",
   "nbconvert_exporter": "python",
   "pygments_lexer": "ipython3",
   "version": "3.5.3"
  }
 },
 "nbformat": 4,
 "nbformat_minor": 1
}
